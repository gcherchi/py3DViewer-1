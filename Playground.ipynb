{
 "cells": [
  {
   "cell_type": "code",
   "execution_count": 16,
   "metadata": {},
   "outputs": [],
   "source": [
    "from Py3DViewer import Trimesh, Viewer, subdivision\n",
    "import numpy as np"
   ]
  },
  {
   "cell_type": "code",
   "execution_count": 17,
   "metadata": {},
   "outputs": [],
   "source": [
    "def show_mesh_from_direction(id_direction, directions, mesh, bucket_matrix):\n",
    "    mesh = mesh.copy()\n",
    "    mesh.labels = bucket_matrix[id_direction] + 1\n",
    "    direction_support_mesh = Trimesh(vertices = np.array(((mesh.bbox[0]+mesh.bbox[1])/2 + directions[id_direction], (mesh.bbox[0]+mesh.bbox[1])/2 + directions[id_direction]*-1)), faces=[[0, 1, 0]])\n",
    "    return Viewer([mesh, direction_support_mesh], with_gui=True)\n",
    "    \n",
    "mesh = Trimesh('fertility.obj')\n",
    "bucket_matrix = np.load('bucket_matrix.npy', allow_pickle=True)\n",
    "directions = np.load('directions.npy', allow_pickle=True)"
   ]
  },
  {
   "cell_type": "code",
   "execution_count": 18,
   "metadata": {},
   "outputs": [
    {
     "name": "stdout",
     "output_type": "stream",
     "text": [
      "Il numero di direzioni samplate è 126, mentre il numero di facce è 18638\n"
     ]
    }
   ],
   "source": [
    "print(f\"Il numero di direzioni samplate è {bucket_matrix.shape[0]}, mentre il numero di facce è {bucket_matrix.shape[1]}\")"
   ]
  },
  {
   "cell_type": "code",
   "execution_count": 19,
   "metadata": {},
   "outputs": [
    {
     "name": "stdout",
     "output_type": "stream",
     "text": [
      "ERROR: GUI only supports one geometry at a time, so far.\n"
     ]
    },
    {
     "data": {
      "application/vnd.jupyter.widget-view+json": {
       "model_id": "fd66820d28de411d8663f5aa4d8fb532",
       "version_major": 2,
       "version_minor": 0
      },
      "text/plain": [
       "HBox(children=(FloatRangeSlider(value=(7.8e-05, 0.756317), description='X Clipping:', max=0.76387939, min=-0.0…"
      ]
     },
     "metadata": {},
     "output_type": "display_data"
    },
    {
     "data": {
      "application/vnd.jupyter.widget-view+json": {
       "model_id": "393f254219e14138a39b2202793f2ca9",
       "version_major": 2,
       "version_minor": 0
      },
      "text/plain": [
       "HBox(children=(FloatRangeSlider(value=(0.0, 0.583106), description='Y Clipping:', max=0.58893706, min=-0.00583…"
      ]
     },
     "metadata": {},
     "output_type": "display_data"
    },
    {
     "data": {
      "application/vnd.jupyter.widget-view+json": {
       "model_id": "77429ced085741189c22519eda2248f1",
       "version_major": 2,
       "version_minor": 0
      },
      "text/plain": [
       "HBox(children=(FloatRangeSlider(value=(0.0, 0.296399), description='Z Clipping:', max=0.29936299000000005, min…"
      ]
     },
     "metadata": {},
     "output_type": "display_data"
    },
    {
     "data": {
      "application/vnd.jupyter.widget-view+json": {
       "model_id": "6476b1698e004e1db55304537e81524a",
       "version_major": 2,
       "version_minor": 0
      },
      "text/plain": [
       "HBox(children=(FloatSlider(value=0.4, description='Wireframe', max=1.0, readout_format='.1f'), ColorPicker(val…"
      ]
     },
     "metadata": {},
     "output_type": "display_data"
    },
    {
     "data": {
      "application/vnd.jupyter.widget-view+json": {
       "model_id": "9f1f2d821b88474991eb2ee4ade1f893",
       "version_major": 2,
       "version_minor": 0
      },
      "text/plain": [
       "Dropdown(description='Color-Map:', layout=Layout(display='none'), options=(('virdis', 0), ('parula', 1), ('jet…"
      ]
     },
     "metadata": {},
     "output_type": "display_data"
    },
    {
     "data": {
      "application/vnd.jupyter.widget-view+json": {
       "model_id": "20cd8c30ea5d4c0799fabc8ddd09fb56",
       "version_major": 2,
       "version_minor": 0
      },
      "text/plain": [
       "Dropdown(description='Metric:', layout=Layout(display='none'), options=(('area', 0), ('aspect_ratio', 1)), val…"
      ]
     },
     "metadata": {},
     "output_type": "display_data"
    },
    {
     "data": {
      "application/vnd.jupyter.widget-view+json": {
       "model_id": "0b9b2edf6a9c44f7ad880fca3a6aa716",
       "version_major": 2,
       "version_minor": 0
      },
      "text/plain": [
       "Dropdown(description='Color Type:', options=(('Default', 0), ('Simplex Quality', 1), ('Label', 2)), value=0)"
      ]
     },
     "metadata": {},
     "output_type": "display_data"
    },
    {
     "data": {
      "application/vnd.jupyter.widget-view+json": {
       "model_id": "ba2ec8eee7a34abbaa0766444da5d88a",
       "version_major": 2,
       "version_minor": 0
      },
      "text/plain": [
       "HBox(children=(ColorPicker(value='#01d4b4', concise=True, description='External'),))"
      ]
     },
     "metadata": {},
     "output_type": "display_data"
    },
    {
     "data": {
      "application/vnd.jupyter.widget-view+json": {
       "model_id": "dac53834b3e14bd9ad57fb5733564b81",
       "version_major": 2,
       "version_minor": 0
      },
      "text/plain": [
       "HBox(children=(ColorPicker(value='#7f73ce', concise=True, description='Label 0', layout=Layout(display='')), C…"
      ]
     },
     "metadata": {},
     "output_type": "display_data"
    },
    {
     "data": {
      "application/vnd.jupyter.widget-view+json": {
       "model_id": "446d196066c742f1a976699408e97748",
       "version_major": 2,
       "version_minor": 0
      },
      "text/plain": [
       "Renderer(camera=PerspectiveCamera(aspect=1.4285714285714286, children=(DirectionalLight(position=(0.0, 10.0, 0…"
      ]
     },
     "metadata": {},
     "output_type": "display_data"
    }
   ],
   "source": [
    "\"\"\"\n",
    "    Cambiando direction_index potete visualizzare da direzioni diverse. L'indice fa riferimento all'indice del vertice dell'ottaedro che è stato suddiviso per ottenere questo pool di direzioni,\n",
    "    quindi è poco significativo in questo contesto. Però si può facilmente provare a vederne diverse, dato che comunque nella scena aggiungo anche un triangolo super skinny per farvi capire la direzione effettiva.\n",
    "\"\"\"\n",
    "\n",
    "direction_index = 10\n",
    "viewer = show_mesh_from_direction(direction_index, directions, mesh, bucket_matrix)\n",
    "viewer.UI.coloring_type_menu.index = 2\n",
    "viewer.show()"
   ]
  },
  {
   "cell_type": "code",
   "execution_count": null,
   "metadata": {},
   "outputs": [],
   "source": []
  },
  {
   "cell_type": "code",
   "execution_count": null,
   "metadata": {},
   "outputs": [],
   "source": []
  }
 ],
 "metadata": {
  "kernelspec": {
   "display_name": "Python 3",
   "language": "python",
   "name": "python3"
  },
  "language_info": {
   "codemirror_mode": {
    "name": "ipython",
    "version": 3
   },
   "file_extension": ".py",
   "mimetype": "text/x-python",
   "name": "python",
   "nbconvert_exporter": "python",
   "pygments_lexer": "ipython3",
   "version": "3.7.2"
  }
 },
 "nbformat": 4,
 "nbformat_minor": 4
}
