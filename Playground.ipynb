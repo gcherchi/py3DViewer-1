{
 "cells": [
  {
   "cell_type": "code",
   "execution_count": 21,
   "metadata": {},
   "outputs": [],
   "source": [
    "from Py3DViewer import Trimesh, Viewer, subdivision\n",
    "import numpy as np"
   ]
  },
  {
   "cell_type": "code",
   "execution_count": 27,
   "metadata": {},
   "outputs": [],
   "source": [
    "def show_mesh_from_direction(id_direction, directions, mesh, bucket_matrix):\n",
    "    mesh = mesh.copy()\n",
    "    mesh.labels = bucket_matrix[id_direction] + 1\n",
    "    direction_support_mesh = Trimesh(vertices = np.array(((mesh.bbox[0]+mesh.bbox[1])/2 + directions[id_direction], (mesh.bbox[0]+mesh.bbox[1])/2 + directions[id_direction]*-1)), faces=[[0, 1, 0]])\n",
    "    return Viewer([mesh, direction_support_mesh], with_gui=True)\n",
    "    \n",
    "mesh_names = ['fertility', 'bunny', 'maxplanck', 'kitten']\n",
    "meshes = [Trimesh(f'{mesh_name}.obj') for mesh_name in mesh_names] \n",
    "bucket_matrices = [np.load(f'{mesh_name}/{mesh_name}_bucket.npy', allow_pickle=True) for mesh_name in mesh_names] \n",
    "largest = [np.load(f'{mesh_name}/{mesh_name}_largest.npy', allow_pickle=True) for mesh_name in mesh_names] \n",
    "fewer = [np.load(f'{mesh_name}/{mesh_name}_fewer.npy', allow_pickle=True) for mesh_name in mesh_names] \n",
    "largest_minimal = [np.load(f'{mesh_name}/{mesh_name}_largest_minimal.npy', allow_pickle=True) for mesh_name in mesh_names] \n",
    "symmetry = [np.load(f'{mesh_name}/{mesh_name}_symmetry.npy', allow_pickle=True) for mesh_name in mesh_names] \n",
    "smallest_perimeter = [np.load(f'{mesh_name}/{mesh_name}_smallest_perimeter.npy', allow_pickle=True) for mesh_name in mesh_names] \n",
    "directions = np.load('directions.npy', allow_pickle=True)"
   ]
  },
  {
   "cell_type": "code",
   "execution_count": 29,
   "metadata": {},
   "outputs": [],
   "source": [
    "metrics = [largest, fewer, largest_minimal, symmetry, smallest_perimeter] "
   ]
  },
  {
   "cell_type": "code",
   "execution_count": 32,
   "metadata": {},
   "outputs": [
    {
     "name": "stdout",
     "output_type": "stream",
     "text": [
      "ERROR: GUI only supports one geometry at a time, so far.\n"
     ]
    },
    {
     "data": {
      "application/vnd.jupyter.widget-view+json": {
       "model_id": "5cb756fd802f4f33b83308785f0e78b5",
       "version_major": 2,
       "version_minor": 0
      },
      "text/plain": [
       "HBox(children=(FloatRangeSlider(value=(7.8e-05, 0.756317), description='X Clipping:', max=0.76387939, min=-0.0…"
      ]
     },
     "metadata": {},
     "output_type": "display_data"
    },
    {
     "data": {
      "application/vnd.jupyter.widget-view+json": {
       "model_id": "587292dad3124ca2a3ccf26c4a058f49",
       "version_major": 2,
       "version_minor": 0
      },
      "text/plain": [
       "HBox(children=(FloatRangeSlider(value=(0.0, 0.583106), description='Y Clipping:', max=0.58893706, min=-0.00583…"
      ]
     },
     "metadata": {},
     "output_type": "display_data"
    },
    {
     "data": {
      "application/vnd.jupyter.widget-view+json": {
       "model_id": "a4e27d394a854a59afdbddfa98174980",
       "version_major": 2,
       "version_minor": 0
      },
      "text/plain": [
       "HBox(children=(FloatRangeSlider(value=(0.0, 0.296399), description='Z Clipping:', max=0.29936299000000005, min…"
      ]
     },
     "metadata": {},
     "output_type": "display_data"
    },
    {
     "data": {
      "application/vnd.jupyter.widget-view+json": {
       "model_id": "1445f2d9561f4f5bae8d9cea1fb181bb",
       "version_major": 2,
       "version_minor": 0
      },
      "text/plain": [
       "HBox(children=(FloatSlider(value=0.4, description='Wireframe', max=1.0, readout_format='.1f'), ColorPicker(val…"
      ]
     },
     "metadata": {},
     "output_type": "display_data"
    },
    {
     "data": {
      "application/vnd.jupyter.widget-view+json": {
       "model_id": "1dfb5dfc0cbe478aa172ad0488862cb5",
       "version_major": 2,
       "version_minor": 0
      },
      "text/plain": [
       "Dropdown(description='Color-Map:', layout=Layout(display='none'), options=(('virdis', 0), ('parula', 1), ('jet…"
      ]
     },
     "metadata": {},
     "output_type": "display_data"
    },
    {
     "data": {
      "application/vnd.jupyter.widget-view+json": {
       "model_id": "c768fe9ea83949e9b77a2a0e80b0a571",
       "version_major": 2,
       "version_minor": 0
      },
      "text/plain": [
       "Dropdown(description='Metric:', layout=Layout(display='none'), options=(('area', 0), ('aspect_ratio', 1)), val…"
      ]
     },
     "metadata": {},
     "output_type": "display_data"
    },
    {
     "data": {
      "application/vnd.jupyter.widget-view+json": {
       "model_id": "41295882d733495e8b5f8f713c53ffeb",
       "version_major": 2,
       "version_minor": 0
      },
      "text/plain": [
       "Dropdown(description='Color Type:', options=(('Default', 0), ('Simplex Quality', 1), ('Label', 2)), value=0)"
      ]
     },
     "metadata": {},
     "output_type": "display_data"
    },
    {
     "data": {
      "application/vnd.jupyter.widget-view+json": {
       "model_id": "81614b0958a34990a2ce5f9781d0629c",
       "version_major": 2,
       "version_minor": 0
      },
      "text/plain": [
       "HBox(children=(ColorPicker(value='#01d4b4', concise=True, description='External'),))"
      ]
     },
     "metadata": {},
     "output_type": "display_data"
    },
    {
     "data": {
      "application/vnd.jupyter.widget-view+json": {
       "model_id": "b6ab3e0a3f644a82a102548c28001351",
       "version_major": 2,
       "version_minor": 0
      },
      "text/plain": [
       "HBox(children=(ColorPicker(value='#fe663f', concise=True, description='Label 0', layout=Layout(display='')), C…"
      ]
     },
     "metadata": {},
     "output_type": "display_data"
    },
    {
     "data": {
      "application/vnd.jupyter.widget-view+json": {
       "model_id": "4bfbd3f98768407aa7bec2abc1d88914",
       "version_major": 2,
       "version_minor": 0
      },
      "text/plain": [
       "Renderer(camera=PerspectiveCamera(aspect=1.4285714285714286, children=(DirectionalLight(position=(0.0, 10.0, 0…"
      ]
     },
     "metadata": {},
     "output_type": "display_data"
    }
   ],
   "source": [
    "\"\"\"\n",
    "    meshes:\n",
    "         0 - fertility\n",
    "         1 - bunny\n",
    "         2 - maxplanck\n",
    "         3 - kitten\n",
    "    metrics:\n",
    "         0 - (largest) direction with largest patch\n",
    "         1 - (fewer) direction with fewer total patches excluding patches smaller than 3 triangles\n",
    "         2 - (largest_minimal) direction with largest minimal patch\n",
    "         3 - (symmetry) direction with smallest difference between largest patch and non-visible patch\n",
    "         4 - (smallest_perimeter) direction with smallest total sum of boundary edges' length\n",
    "         \n",
    "         \n",
    "    NOTE: La \"fewer\" va rivista: ora come ora non considero il numero minore di patch CONNESSE,\n",
    "          ma considero semplicemente il numero minore di \"numero di occlusioni\"... che è poco \n",
    "          significativo, dato che effettivamente ce ne sono tantissime con lo stesso numero di\n",
    "          occlusioni. ASAP implementerò il check di connettività (in realtà lo devo solo recuperare\n",
    "          dal precedente approccio).\n",
    "\"\"\"\n",
    "mesh = 0\n",
    "metric = 1\n",
    "viewer = show_mesh_from_direction(metrics[metric][mesh], directions, meshes[mesh], bucket_matrices[mesh])\n",
    "viewer.UI.coloring_type_menu.index = 2\n",
    "viewer.show()"
   ]
  }
 ],
 "metadata": {
  "kernelspec": {
   "display_name": "Python 3",
   "language": "python",
   "name": "python3"
  },
  "language_info": {
   "codemirror_mode": {
    "name": "ipython",
    "version": 3
   },
   "file_extension": ".py",
   "mimetype": "text/x-python",
   "name": "python",
   "nbconvert_exporter": "python",
   "pygments_lexer": "ipython3",
   "version": "3.7.2"
  }
 },
 "nbformat": 4,
 "nbformat_minor": 4
}
